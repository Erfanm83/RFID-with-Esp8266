{
    "cells": [
     {
      "cell_type": "markdown",
      "metadata": {},
      "source": [
       "# NFC Tag Detection and Google Spreadsheet Logging\n",
       "Project to detect NFC tag card, read its content, distinguish between users, and log details on Google Spreadsheet.\n",
       "\n",
       "### Contents:\n",
       "\n",
       "* [Introduction](#Introduction)\n",
       "* [Hardware Components](#Hardware-Components)\n",
       "  * [NFC Module with ESP8266](#NFC-Module-with-ESP8266)\n",
       "  * [16x2 LCD with I2C Interface](#16x2-LCD-with-I2C-Interface)\n",
       "  * [Mifare Classic Tag](#Mifare-Classic-Tag)\n",
       "* [Software Setup](#Software-Setup)\n",
       "  * [Installing Libraries](#Installing-Libraries)\n",
       "  * [Configuring ESP8266](#Configuring-ESP8266)\n",
       "* [Reading NFC Tag](#Reading-NFC-Tag)\n",
       "* [User Identification](#User-Identification)\n",
       "* [Logging Details](#Logging-Details)\n",
       "* [Google Spreadsheet Integration](#Google-Spreadsheet-Integration)\n",
       "* [Conclusion](#Conclusion)\n"
      ]
     },
     {
      "cell_type": "markdown",
      "metadata": {},
      "source": [
       "## Introduction\n",
       "This project aims to create an attendance system using Near Field Communication (NFC) technology integrated with an ESP8266 microcontroller, a 16x2 LCD with I2C interface, and a Mifare Classic Tag. The system will detect the NFC tag, read its content, determine if the ID belongs to a specific person (e.g., Erfan or Hossein), and then log the attendance details onto a Google Spreadsheet. "
      ]
     },
     {
      "cell_type": "markdown",
      "metadata": {},
      "source": [
       "## Hardware Components\n",
       "Details of the hardware components used in the project."
      ]
     },
     {
      "cell_type": "markdown",
      "metadata": {},
      "source": [
       "### NFC Module with ESP8266\n",
       "The NFC module is used to read NFC tags. It is integrated with the ESP8266 microcontroller, a powerful and low-cost Wi-Fi module. The key specifications of the ESP8266 module are:\n",
       "- Model: ESP8266MOD\n",
       "- ISM 2.4GHz\n",
       "- PA +25dBm\n",
       "- Supports 802.11b/g/n Wi-Fi standards\n",
       "\n",
       "The NFC Module V3 uses the I2C protocol instead of SPI or HSU, making it easier to connect with the ESP8266."
      ]
     },
     {
      "cell_type": "markdown",
      "metadata": {},
      "source": [
       "### 16x2 LCD with I2C Interface\n",
       "The 16x2 C0421A LCD module is used to display messages and information. It is interfaced using the I2C protocol through the NXD PCF85741 I2C module, which reduces the number of pins required for connection to the microcontroller."
      ]
     },
     {
      "cell_type": "markdown",
      "metadata": {},
      "source": [
       "### Additional Components\n",
       "- Two breadboards for creating the circuit.\n",
       "- Jumper wires for connections between the components.\n",
       "- A USB Type-A cable for powering the ESP8266 and for serial communication with a computer."
      ]
     },
     {
      "cell_type": "markdown",
      "metadata": {},
      "source": [
       "### Mifare Classic Tag\n",
       "Overview of the Mifare Classic tag and its usage."
      ]
     },
     {
      "cell_type": "markdown",
      "metadata": {},
      "source": [
       "## Software Setup\n",
       "Configuration and setup of required software components."
      ]
     },
     {
      "cell_type": "markdown",
      "metadata": {},
      "source": [
       "### Installing Libraries\n",
       "To use the libraries required for this project, follow these steps:\n",
       "\n",
       "1. **Adafruit GFX Library**\n",
       "   - Open the Arduino IDE.\n",
       "   - Go to **Sketch** > **Include Library** > **Manage Libraries**.\n",
       "   - In the Library Manager, search for 'Adafruit GFX'.\n",
       "   - Click on the library and then click the 'Install' button.\n",
       "   - **Usage:** Provides common graphics functions for various displays, including drawing shapes and text.\n",
       "\n",
       "2. **Adafruit SSD1306 Library**\n",
       "   - Open the Arduino IDE.\n",
       "   - Go to **Sketch** > **Include Library** > **Manage Libraries**.\n",
       "   - In the Library Manager, search for 'Adafruit SSD1306'.\n",
       "   - Click on the library and then click the 'Install' button.\n",
       "   - **Usage:** Controls SSD1306-based OLED displays, essential for showing messages on the screen.\n",
       "\n",
       "3. **Arduino Library**\n",
       "   - This library is included with the Arduino IDE, so no additional installation is required.\n",
       "   - **Usage:** Provides basic functions for working with the Arduino hardware.\n",
       "\n",
       "4. **ESP8266WiFi Library**\n",
       "   - Open the Arduino IDE.\n",
       "   - Go to **Sketch** > **Include Library** > **Manage Libraries**.\n",
       "   - In the Library Manager, search for 'ESP8266WiFi'.\n",
       "   - Click on the library and then click the 'Install' button.\n",
       "   - **Usage:** Connects the ESP8266 to Wi-Fi networks, enabling internet communication.\n",
       "\n",
       "5. **HTTPSRedirect Library**\n",
       "   - Download from [GitHub](https://github.com/electronicsguy/ESP8266/tree/master/HTTPSRedirect).\n",
       "   - Extract the downloaded zip file and place it in the `libraries` folder of your Arduino sketchbook directory.\n",
       "   - **Usage:** Makes HTTPS requests to a server, necessary for secure data transmission to Google Sheets.\n",
       "\n",
       "6. **Display Library**\n",
       "   - If custom, place it in the `libraries` folder of your Arduino sketchbook directory.\n",
       "   - **Usage:** Handles display-related functions, providing high-level functions for the display module.\n",
       "\n",
       "7. **Wire Library**\n",
       "   - This library is included with the Arduino IDE, so no additional installation is required.\n",
       "   - **Usage:** Facilitates I2C communication between the Arduino and I2C devices like the NFC module and LCD.\n",
       "\n",
       "8. **PN532_I2C, PN532, NfcAdapter Libraries**\n",
       "   - Open the Arduino IDE.\n",
       "   - Go to **Sketch** > **Include Library** > **Manage Libraries**.\n",
       "   - In the Library Manager, search for 'PN532' and install the related libraries.\n",
       "   - **Usage:** Interfaces with the PN532 NFC/RFID module, providing functions to read and write NFC tags.\n",
       "\n",
       "9. **LiquidCrystal I2C Library**\n",
       "   - Open the Arduino IDE.\n",
       "   - Go to **Sketch** > **Include Library** > **Manage Libraries**.\n",
       "   - In the Library Manager, search for 'LiquidCrystal I2C'.\n",
       "   - Click on the library and then click the 'Install' button.\n",
       "   - **Usage:** Controls I2C LCD displays, simplifying the interaction with the 16x2 LCD module.\n"
      ]
     },
     {
      "cell_type": "markdown",
      "metadata": {},
      "source": [
       "### Configuring ESP8266\n",
       "Steps to configure ESP8266 for NFC tag detection."
      ]
     },
     {
      "cell_type": "markdown",
      "metadata": {},
      "source": [
       "## Reading NFC Tag\n",
       "Code snippets for reading NFC tag content."
      ]
     },
     {
      "cell_type": "markdown",
      "metadata": {},
      "source": [
       "## User Identification\n",
       "Algorithm for distinguishing between users based on tag ID."
      ]
     },
     {
      "cell_type": "markdown",
      "metadata": {},
      "source": [
       "## Logging Details\n",
       "Implementation of logging details functionality."
      ]
     },
     {
      "cell_type": "markdown",
      "metadata": {},
      "source": [
       "## Google Spreadsheet Integration\n",
       "Guide for integrating with Google Spreadsheet for logging."
      ]
     },
     {
      "cell_type": "markdown",
      "metadata": {},
      "source": [
       "## Conclusion\n",
       "Summary and final thoughts."
      ]
     }
    ],
    "metadata": {
     "kernelspec": {
      "display_name": "Python 3",
      "language": "python",
      "name": "python3"
     },
     "language_info": {
      "codemirror_mode": {
       "name": "ipython",
       "version": 3
      },
      "file_extension": ".py",
      "mimetype": "text/x-python",
      "name": "python",
      "nbconvert_exporter": "python",
      "pygments_lexer": "ipython3",
      "version": "3.12.3"
     }
    },
    "nbformat": 4,
    "nbformat_minor": 2
   }
   